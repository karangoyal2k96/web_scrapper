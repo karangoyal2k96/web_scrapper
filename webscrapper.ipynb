{
 "cells": [
  {
   "cell_type": "code",
   "execution_count": 9,
   "metadata": {},
   "outputs": [],
   "source": [
    "from bs4 import BeautifulSoup as bs\n"
   ]
  },
  {
   "cell_type": "code",
   "execution_count": 10,
   "metadata": {},
   "outputs": [],
   "source": [
    "import requests\n",
    "url='http://codeforces.com/contests'\n",
    "r=requests.get(url)"
   ]
  },
  {
   "cell_type": "code",
   "execution_count": 11,
   "metadata": {},
   "outputs": [],
   "source": [
    "soup=bs(r.text,'html.parser')"
   ]
  },
  {
   "cell_type": "code",
   "execution_count": 12,
   "metadata": {},
   "outputs": [
    {
     "name": "stdout",
     "output_type": "stream",
     "text": [
      "<class 'bs4.BeautifulSoup'>\n"
     ]
    }
   ],
   "source": [
    "print type(soup)"
   ]
  },
  {
   "cell_type": "code",
   "execution_count": 13,
   "metadata": {},
   "outputs": [],
   "source": [
    "temp=soup.find_all('div',{'class':'contests-table'})"
   ]
  },
  {
   "cell_type": "code",
   "execution_count": 14,
   "metadata": {},
   "outputs": [
    {
     "name": "stdout",
     "output_type": "stream",
     "text": [
      "1\n"
     ]
    }
   ],
   "source": [
    "print len(temp)"
   ]
  },
  {
   "cell_type": "code",
   "execution_count": 15,
   "metadata": {},
   "outputs": [
    {
     "name": "stdout",
     "output_type": "stream",
     "text": [
      "101\n",
      "http://codeforces.com/blog/entry/58544\n",
      "http://codeforces.com/blog/entry/58544\n",
      "http://codeforces.com/blog/entry/58544\n",
      "http://codeforces.com/blog/entry/58547\n",
      "http://codeforces.com/blog/entry/58519\n",
      "http://codeforces.com/blog/entry/58286\n",
      "http://codeforces.com/blog/entry/58286\n",
      "http://codeforces.com/blog/entry/58286\n"
     ]
    }
   ],
   "source": [
    "\n",
    "l={}\n",
    "links=[]\n",
    "m= temp[0].find_all('tr')\n",
    "print len(m)\n",
    "count =0;\n",
    "for i in range (len(m)):\n",
    "    l[count]=m[i].find_all('a')\n",
    "    count+=1;\n",
    "for i in range (len(m)):\n",
    "    if len(l[i])!=0 :\n",
    "        links.append( \"http://codeforces.com\"+l[i][0]['href'])        \n",
    "temp=[]  \n",
    "final_links=[]\n",
    "for i in range (10):\n",
    "    url=links[i]\n",
    "    r=requests.get(url)\n",
    "    soup=bs(r.text,'html.parser')\n",
    "    temp=(soup.find_all('div',{'class':'roundbox sidebox sidebar-menu'}))\n",
    "    if(len(temp)>0):\n",
    "        temp=temp[0].find_all('a')\n",
    "        for j in range (len(temp)):\n",
    "            if temp[j].string==u\"Tutorial\":\n",
    "                final_links.append(\"http://codeforces.com\"+temp[j]['href'])\n",
    "        \n",
    "for i in range( len(final_links)):\n",
    "    print final_links[i]\n",
    "\n",
    "\n",
    "    \n",
    "        "
   ]
  },
  {
   "cell_type": "code",
   "execution_count": 17,
   "metadata": {},
   "outputs": [
    {
     "name": "stdout",
     "output_type": "stream",
     "text": [
      "<module 'pdfkit.source' from '/usr/local/lib/python2.7/dist-packages/pdfkit/source.pyc'>\n",
      "/home/karan/Downloads\n",
      "0\n"
     ]
    },
    {
     "ename": "IOError",
     "evalue": "wkhtmltopdf reported an error:\nLoading pages (1/6)\n[>                                                           ] 0%\r[======>                                                     ] 10%\r[=======>                                                    ] 13%\r[==========>                                                 ] 17%\r[==========>                                                 ] 18%\r[==========>                                                 ] 18%\r[===========>                                                ] 19%\r[=============>                                              ] 22%\rWarning: Failed to load http://yandex.st/share/share.js (ignore)  \n[==============>                                             ] 24%\r[===============>                                            ] 26%\r[================>                                           ] 27%\r[================>                                           ] 28%\rWarning: Failed to load http://st.codeforces.com/s/38327/css/facebox.css (ignore)\n[=================>                                          ] 29%\rWarning: Failed to load http://st.codeforces.com/s/38327/css/community.css (ignore)\n[==================>                                         ] 30%\rWarning: Failed to load http://st.codeforces.com/s/38327/js/prettify/prettify.js (ignore)\nWarning: Failed to load http://st.codeforces.com/s/38327/js/moment.js (ignore)\n[==================>                                         ] 31%\rWarning: Failed to load http://st.codeforces.com/s/38327/js/facebox.js (ignore)\n[==================>                                         ] 31%\r[===================>                                        ] 33%\r[=====================>                                      ] 36%\r[======================>                                     ] 38%\r[========================>                                   ] 40%\r[=========================>                                  ] 43%\r[==========================>                                 ] 44%\r[===========================>                                ] 46%\r[============================>                               ] 47%\r[============================>                               ] 48%\r[==============================>                             ] 50%\r[================================>                           ] 54%\r[=================================>                          ] 56%\r[===================================>                        ] 59%\r[====================================>                       ] 61%\r[=====================================>                      ] 63%\r[=====================================>                      ] 63%\r[=======================================>                    ] 66%\r[========================================>                   ] 68%\r[==========================================>                 ] 71%\r[============================================>               ] 74%\r[============================================>               ] 74%\r[============================================>               ] 74%\r[============================================>               ] 74%\r[============================================>               ] 74%\r[=============================================>              ] 75%\r[=============================================>              ] 75%\r[=============================================>              ] 76%\r[================================================>           ] 81%\r[===================================================>        ] 85%\r[===================================================>        ] 85%\r[===================================================>        ] 85%\r[============================================================] 100%\r[======>                                                     ] 10% \rWarning: A finished ResourceObject received a loading finished signal. This might be an indication of an iframe taking too long to load.\nWarning: A finished ResourceObject received a loading progress signal. This might be an indication of an iframe taking too long to load.\nCounting pages (2/6)\n[============================================================] Object 1 of 1\rResolving links (4/6)                                                       \n[============================================================] Object 1 of 1\rLoading headers and footers (5/6)                                           \nPrinting pages (6/6)\n[>                                                           ] Preparing\r[========>                                                   ] Page 1 of 7\r[================>                                           ] Page 2 of 7\r[=========================>                                  ] Page 3 of 7\r[==================================>                         ] Page 4 of 7\r[==========================================>                 ] Page 5 of 7\r[===================================================>        ] Page 6 of 7\r[============================================================] Page 7 of 7\rDone                                                                      \nExit with code 1 due to network error: RemoteHostClosedError\n",
     "output_type": "error",
     "traceback": [
      "\u001b[0;31m---------------------------------------------------------------------------\u001b[0m",
      "\u001b[0;31mIOError\u001b[0m                                   Traceback (most recent call last)",
      "\u001b[0;32m<ipython-input-17-2edbd54e4bd1>\u001b[0m in \u001b[0;36m<module>\u001b[0;34m()\u001b[0m\n\u001b[1;32m      7\u001b[0m     \u001b[0;32mprint\u001b[0m \u001b[0mi\u001b[0m\u001b[0;34m\u001b[0m\u001b[0m\n\u001b[1;32m      8\u001b[0m     \u001b[0mconfig\u001b[0m \u001b[0;34m=\u001b[0m \u001b[0mpdfkit\u001b[0m\u001b[0;34m.\u001b[0m\u001b[0mconfiguration\u001b[0m\u001b[0;34m(\u001b[0m\u001b[0mwkhtmltopdf\u001b[0m\u001b[0;34m=\u001b[0m\u001b[0;34m'/home/karan/wkhtmltox/bin/wkhtmltopdf'\u001b[0m\u001b[0;34m)\u001b[0m\u001b[0;34m\u001b[0m\u001b[0m\n\u001b[0;32m----> 9\u001b[0;31m     \u001b[0mpdfkit\u001b[0m\u001b[0;34m.\u001b[0m\u001b[0mfrom_url\u001b[0m\u001b[0;34m(\u001b[0m\u001b[0mfinal_links\u001b[0m\u001b[0;34m[\u001b[0m\u001b[0mi\u001b[0m\u001b[0;34m]\u001b[0m\u001b[0;34m,\u001b[0m \u001b[0;34m'out4.pdf'\u001b[0m\u001b[0;34m,\u001b[0m\u001b[0mconfiguration\u001b[0m \u001b[0;34m=\u001b[0m \u001b[0mconfig\u001b[0m\u001b[0;34m)\u001b[0m\u001b[0;34m\u001b[0m\u001b[0m\n\u001b[0m",
      "\u001b[0;32m/usr/local/lib/python2.7/dist-packages/pdfkit/api.pyc\u001b[0m in \u001b[0;36mfrom_url\u001b[0;34m(url, output_path, options, toc, cover, configuration, cover_first)\u001b[0m\n\u001b[1;32m     24\u001b[0m                configuration=configuration, cover_first=cover_first)\n\u001b[1;32m     25\u001b[0m \u001b[0;34m\u001b[0m\u001b[0m\n\u001b[0;32m---> 26\u001b[0;31m     \u001b[0;32mreturn\u001b[0m \u001b[0mr\u001b[0m\u001b[0;34m.\u001b[0m\u001b[0mto_pdf\u001b[0m\u001b[0;34m(\u001b[0m\u001b[0moutput_path\u001b[0m\u001b[0;34m)\u001b[0m\u001b[0;34m\u001b[0m\u001b[0m\n\u001b[0m\u001b[1;32m     27\u001b[0m \u001b[0;34m\u001b[0m\u001b[0m\n\u001b[1;32m     28\u001b[0m \u001b[0;34m\u001b[0m\u001b[0m\n",
      "\u001b[0;32m/usr/local/lib/python2.7/dist-packages/pdfkit/pdfkit.pyc\u001b[0m in \u001b[0;36mto_pdf\u001b[0;34m(self, path)\u001b[0m\n\u001b[1;32m    154\u001b[0m \u001b[0;34m\u001b[0m\u001b[0m\n\u001b[1;32m    155\u001b[0m         \u001b[0;32mif\u001b[0m \u001b[0;34m'Error'\u001b[0m \u001b[0;32min\u001b[0m \u001b[0mstderr\u001b[0m\u001b[0;34m:\u001b[0m\u001b[0;34m\u001b[0m\u001b[0m\n\u001b[0;32m--> 156\u001b[0;31m             \u001b[0;32mraise\u001b[0m \u001b[0mIOError\u001b[0m\u001b[0;34m(\u001b[0m\u001b[0;34m'wkhtmltopdf reported an error:\\n'\u001b[0m \u001b[0;34m+\u001b[0m \u001b[0mstderr\u001b[0m\u001b[0;34m)\u001b[0m\u001b[0;34m\u001b[0m\u001b[0m\n\u001b[0m\u001b[1;32m    157\u001b[0m \u001b[0;34m\u001b[0m\u001b[0m\n\u001b[1;32m    158\u001b[0m         \u001b[0;32mif\u001b[0m \u001b[0mexit_code\u001b[0m \u001b[0;34m!=\u001b[0m \u001b[0;36m0\u001b[0m\u001b[0;34m:\u001b[0m\u001b[0;34m\u001b[0m\u001b[0m\n",
      "\u001b[0;31mIOError\u001b[0m: wkhtmltopdf reported an error:\nLoading pages (1/6)\n[>                                                           ] 0%\r[======>                                                     ] 10%\r[=======>                                                    ] 13%\r[==========>                                                 ] 17%\r[==========>                                                 ] 18%\r[==========>                                                 ] 18%\r[===========>                                                ] 19%\r[=============>                                              ] 22%\rWarning: Failed to load http://yandex.st/share/share.js (ignore)  \n[==============>                                             ] 24%\r[===============>                                            ] 26%\r[================>                                           ] 27%\r[================>                                           ] 28%\rWarning: Failed to load http://st.codeforces.com/s/38327/css/facebox.css (ignore)\n[=================>                                          ] 29%\rWarning: Failed to load http://st.codeforces.com/s/38327/css/community.css (ignore)\n[==================>                                         ] 30%\rWarning: Failed to load http://st.codeforces.com/s/38327/js/prettify/prettify.js (ignore)\nWarning: Failed to load http://st.codeforces.com/s/38327/js/moment.js (ignore)\n[==================>                                         ] 31%\rWarning: Failed to load http://st.codeforces.com/s/38327/js/facebox.js (ignore)\n[==================>                                         ] 31%\r[===================>                                        ] 33%\r[=====================>                                      ] 36%\r[======================>                                     ] 38%\r[========================>                                   ] 40%\r[=========================>                                  ] 43%\r[==========================>                                 ] 44%\r[===========================>                                ] 46%\r[============================>                               ] 47%\r[============================>                               ] 48%\r[==============================>                             ] 50%\r[================================>                           ] 54%\r[=================================>                          ] 56%\r[===================================>                        ] 59%\r[====================================>                       ] 61%\r[=====================================>                      ] 63%\r[=====================================>                      ] 63%\r[=======================================>                    ] 66%\r[========================================>                   ] 68%\r[==========================================>                 ] 71%\r[============================================>               ] 74%\r[============================================>               ] 74%\r[============================================>               ] 74%\r[============================================>               ] 74%\r[============================================>               ] 74%\r[=============================================>              ] 75%\r[=============================================>              ] 75%\r[=============================================>              ] 76%\r[================================================>           ] 81%\r[===================================================>        ] 85%\r[===================================================>        ] 85%\r[===================================================>        ] 85%\r[============================================================] 100%\r[======>                                                     ] 10% \rWarning: A finished ResourceObject received a loading finished signal. This might be an indication of an iframe taking too long to load.\nWarning: A finished ResourceObject received a loading progress signal. This might be an indication of an iframe taking too long to load.\nCounting pages (2/6)\n[============================================================] Object 1 of 1\rResolving links (4/6)                                                       \n[============================================================] Object 1 of 1\rLoading headers and footers (5/6)                                           \nPrinting pages (6/6)\n[>                                                           ] Preparing\r[========>                                                   ] Page 1 of 7\r[================>                                           ] Page 2 of 7\r[=========================>                                  ] Page 3 of 7\r[==================================>                         ] Page 4 of 7\r[==========================================>                 ] Page 5 of 7\r[===================================================>        ] Page 6 of 7\r[============================================================] Page 7 of 7\rDone                                                                      \nExit with code 1 due to network error: RemoteHostClosedError\n"
     ]
    }
   ],
   "source": [
    "\n",
    "import pdfkit\n",
    "print pdfkit.source\n",
    "import os\n",
    "print os.getcwd()\n",
    "for i in range (len (final_links)):\n",
    "    print i\n",
    "    config = pdfkit.configuration(wkhtmltopdf='/home/karan/wkhtmltox/bin/wkhtmltopdf')\n",
    "    pdfkit.from_url(final_links[i], 'out4.pdf',configuration = config)"
   ]
  },
  {
   "cell_type": "code",
   "execution_count": null,
   "metadata": {},
   "outputs": [],
   "source": []
  }
 ],
 "metadata": {
  "kernelspec": {
   "display_name": "Python 2",
   "language": "python",
   "name": "python2"
  },
  "language_info": {
   "codemirror_mode": {
    "name": "ipython",
    "version": 2
   },
   "file_extension": ".py",
   "mimetype": "text/x-python",
   "name": "python",
   "nbconvert_exporter": "python",
   "pygments_lexer": "ipython2",
   "version": "2.7.12"
  }
 },
 "nbformat": 4,
 "nbformat_minor": 2
}
